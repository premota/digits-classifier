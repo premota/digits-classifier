{
 "cells": [
  {
   "cell_type": "markdown",
   "id": "a58dbc6b",
   "metadata": {},
   "source": [
    "# DIGITS classification"
   ]
  },
  {
   "cell_type": "code",
   "execution_count": 1,
   "id": "6e72197d",
   "metadata": {
    "scrolled": true
   },
   "outputs": [],
   "source": [
    "import tensorflow as tf\n",
    "from tensorflow import keras\n",
    "from tensorflow.keras.models import Sequential\n",
    "from tensorflow.keras.layers import Dense,ReLU, Activation\n",
    "from tensorflow.keras.layers import Conv2D, MaxPooling2D, Flatten\n",
    "import numpy as np\n",
    "import pandas as pd\n",
    "import matplotlib.pyplot as plt "
   ]
  },
  {
   "cell_type": "markdown",
   "id": "51607b12",
   "metadata": {},
   "source": [
    "1. load data\n",
    "2. preprocess data\n",
    "3. build NN\n",
    "4. train model\n",
    "5. model evaluation\n",
    "6. hyper parameter tunning\n",
    "7. deployment"
   ]
  },
  {
   "cell_type": "code",
   "execution_count": 2,
   "id": "fb4b3ba9",
   "metadata": {},
   "outputs": [],
   "source": [
    "#load MNIST data\n",
    "\n",
    "(x_train, y_train), (x_test, y_test) = keras.datasets.mnist.load_data()"
   ]
  },
  {
   "cell_type": "code",
   "execution_count": 3,
   "id": "e8dcd195",
   "metadata": {},
   "outputs": [
    {
     "name": "stdout",
     "output_type": "stream",
     "text": [
      "Training data shape: (60000, 28, 28)\n",
      "Training labels shape: (60000,)\n",
      "Testing data shape: (10000, 28, 28)\n",
      "Testing labels shape: (10000,)\n"
     ]
    }
   ],
   "source": [
    "print('Training data shape:', x_train.shape) \n",
    "print('Training labels shape:', y_train.shape)  \n",
    "print('Testing data shape:', x_test.shape) \n",
    "print('Testing labels shape:', y_test.shape)"
   ]
  },
  {
   "cell_type": "markdown",
   "id": "ea87bd93",
   "metadata": {},
   "source": [
    "## EDA"
   ]
  },
  {
   "cell_type": "code",
   "execution_count": 4,
   "id": "5a7cb930",
   "metadata": {},
   "outputs": [
    {
     "data": {
      "text/plain": [
       "<matplotlib.colorbar.Colorbar at 0x202c9b08f40>"
      ]
     },
     "execution_count": 4,
     "metadata": {},
     "output_type": "execute_result"
    },
    {
     "data": {
      "image/png": "[encoded data removed]",
      "text/plain": [
       "<Figure size 432x288 with 2 Axes>"
      ]
     },
     "metadata": {
      "needs_background": "light"
     },
     "output_type": "display_data"
    }
   ],
   "source": [
    "plt.imshow(x_train[0], cmap = \"gray\") #display first image on training set using \"imshow\"\n",
    "plt.colorbar()"
   ]
  },
  {
   "cell_type": "code",
   "execution_count": 5,
   "id": "35bfc014",
   "metadata": {},
   "outputs": [
    {
     "data": {
      "text/plain": [
       "array([0, 1, 2, 3, 4, 5, 6, 7, 8, 9], dtype=uint8)"
      ]
     },
     "execution_count": 5,
     "metadata": {},
     "output_type": "execute_result"
    }
   ],
   "source": [
    "np.unique(y_train)"
   ]
  },
  {
   "cell_type": "markdown",
   "id": "c2db7dfe",
   "metadata": {},
   "source": [
    "**plot a pie chart to visualise the distribution of predicted classes**"
   ]
  },
  {
   "cell_type": "code",
   "execution_count": 6,
   "id": "1536c2ed",
   "metadata": {},
   "outputs": [],
   "source": [
    "output = pd.Series(y_train) #conver the target class to series"
   ]
  },
  {
   "cell_type": "code",
   "execution_count": 7,
   "id": "bba806e3",
   "metadata": {},
   "outputs": [],
   "source": [
    "prediction_df = output.value_counts() #calculate unique values and their frequency"
   ]
  },
  {
   "cell_type": "code",
   "execution_count": 8,
   "id": "fa26f949",
   "metadata": {},
   "outputs": [],
   "source": [
    "prediction_df = pd.DataFrame(prediction_df) #convert to DF\n",
    "\n",
    "#reset index and rename each column\n",
    "prediction_df = prediction_df.reset_index()\n",
    "prediction_df.columns = [\"label\", \"count\"]"
   ]
  },
  {
   "cell_type": "code",
   "execution_count": 9,
   "id": "60f3400b",
   "metadata": {},
   "outputs": [
    {
     "data": {
      "text/html": [
       "<div>\n",
       "<style scoped>\n",
       "    .dataframe tbody tr th:only-of-type {\n",
       "        vertical-align: middle;\n",
       "    }\n",
       "\n",
       "    .dataframe tbody tr th {\n",
       "        vertical-align: top;\n",
       "    }\n",
       "\n",
       "    .dataframe thead th {\n",
       "        text-align: right;\n",
       "    }\n",
       "</style>\n",
       "<table border=\"1\" class=\"dataframe\">\n",
       "  <thead>\n",
       "    <tr style=\"text-align: right;\">\n",
       "      <th></th>\n",
       "      <th>label</th>\n",
       "      <th>count</th>\n",
       "    </tr>\n",
       "  </thead>\n",
       "  <tbody>\n",
       "    <tr>\n",
       "      <th>0</th>\n",
       "      <td>1</td>\n",
       "      <td>6742</td>\n",
       "    </tr>\n",
       "    <tr>\n",
       "      <th>1</th>\n",
       "      <td>7</td>\n",
       "      <td>6265</td>\n",
       "    </tr>\n",
       "    <tr>\n",
       "      <th>2</th>\n",
       "      <td>3</td>\n",
       "      <td>6131</td>\n",
       "    </tr>\n",
       "    <tr>\n",
       "      <th>3</th>\n",
       "      <td>2</td>\n",
       "      <td>5958</td>\n",
       "    </tr>\n",
       "    <tr>\n",
       "      <th>4</th>\n",
       "      <td>9</td>\n",
       "      <td>5949</td>\n",
       "    </tr>\n",
       "    <tr>\n",
       "      <th>5</th>\n",
       "      <td>0</td>\n",
       "      <td>5923</td>\n",
       "    </tr>\n",
       "    <tr>\n",
       "      <th>6</th>\n",
       "      <td>6</td>\n",
       "      <td>5918</td>\n",
       "    </tr>\n",
       "    <tr>\n",
       "      <th>7</th>\n",
       "      <td>8</td>\n",
       "      <td>5851</td>\n",
       "    </tr>\n",
       "    <tr>\n",
       "      <th>8</th>\n",
       "      <td>4</td>\n",
       "      <td>5842</td>\n",
       "    </tr>\n",
       "    <tr>\n",
       "      <th>9</th>\n",
       "      <td>5</td>\n",
       "      <td>5421</td>\n",
       "    </tr>\n",
       "  </tbody>\n",
       "</table>\n",
       "</div>"
      ],
      "text/plain": [
       "   label  count\n",
       "0      1   6742\n",
       "1      7   6265\n",
       "2      3   6131\n",
       "3      2   5958\n",
       "4      9   5949\n",
       "5      0   5923\n",
       "6      6   5918\n",
       "7      8   5851\n",
       "8      4   5842\n",
       "9      5   5421"
      ]
     },
     "execution_count": 9,
     "metadata": {},
     "output_type": "execute_result"
    }
   ],
   "source": [
    "prediction_df"
   ]
  },
  {
   "cell_type": "code",
   "execution_count": 10,
   "id": "d61d643e",
   "metadata": {},
   "outputs": [
    {
     "data": {
      "text/plain": [
       "([<matplotlib.patches.Wedge at 0x202c9c92100>,\n",
       "  <matplotlib.patches.Wedge at 0x202c9c83100>,\n",
       "  <matplotlib.patches.Wedge at 0x202c9c92d30>,\n",
       "  <matplotlib.patches.Wedge at 0x202c9ca1490>,\n",
       "  <matplotlib.patches.Wedge at 0x202c9ca1bb0>,\n",
       "  <matplotlib.patches.Wedge at 0x202c9cb0310>,\n",
       "  <matplotlib.patches.Wedge at 0x202c9cb09d0>,\n",
       "  <matplotlib.patches.Wedge at 0x202c9cbd130>,\n",
       "  <matplotlib.patches.Wedge at 0x202c9cbd850>,\n",
       "  <matplotlib.patches.Wedge at 0x202c9cbdf70>],\n",
       " [Text(1.032169855618871, 0.3802964490390609, '1'),\n",
       "  Text(0.5624718738310517, 0.9453176138996806, '7'),\n",
       "  Text(-0.12328359792852124, 1.0930696018469268, '3'),\n",
       "  Text(-0.7460038739055851, 0.8083799973514065, '2'),\n",
       "  Text(-1.0776214818830971, 0.22075312406414033, '9'),\n",
       "  Text(-1.0045952131455536, -0.4480942509395095, '0'),\n",
       "  Text(-0.5572662228003598, -0.9483956752989862, '6'),\n",
       "  Text(0.0933656569699869, -1.096030498708208, '8'),\n",
       "  Text(0.7063013400173187, -0.8432902330098103, '4'),\n",
       "  Text(1.0559849847704834, -0.30805147611930406, '5')],\n",
       " [Text(0.5630017394284751, 0.20743442674857868, '11.2%'),\n",
       "  Text(0.3068028402714827, 0.5156277893998257, '10.4%'),\n",
       "  Text(-0.06724559887010248, 0.5962197828255963, '10.2%'),\n",
       "  Text(-0.4069112039485009, 0.44093454400985804, '9.9%'),\n",
       "  Text(-0.5877935355725984, 0.12041079494407653, '9.9%'),\n",
       "  Text(-0.5479610253521201, -0.24441504596700514, '9.9%'),\n",
       "  Text(-0.3039633942547416, -0.5173067319812651, '9.9%'),\n",
       "  Text(0.050926721983629214, -0.5978348174772042, '9.8%'),\n",
       "  Text(0.38525527637308293, -0.4599764907326237, '9.7%'),\n",
       "  Text(0.575991809874809, -0.16802807788325674, '9.0%')])"
      ]
     },
     "execution_count": 10,
     "metadata": {},
     "output_type": "execute_result"
    },
    {
     "data": {
      "image/png": "[encoded data removed]",
      "text/plain": [
       "<Figure size 720x720 with 1 Axes>"
      ]
     },
     "metadata": {},
     "output_type": "display_data"
    }
   ],
   "source": [
    "#conver count column to a list \n",
    "count = prediction_df[\"count\"].values.tolist()\n",
    "\n",
    "#convert label column to a list\n",
    "label = prediction_df[\"label\"].values.tolist()\n",
    "\n",
    "#plot pie chart\n",
    "plt.figure(figsize = (10,10))\n",
    "plt.pie(count, labels = label, autopct = \"%1.1f%%\")"
   ]
  },
  {
   "cell_type": "markdown",
   "id": "c97c41a0",
   "metadata": {},
   "source": [
    "the output class is almost evenly distributed.\n",
    "\n",
    "**accuracy** is good enough to use as an evaluation metric"
   ]
  },
  {
   "cell_type": "markdown",
   "id": "86ff0508",
   "metadata": {},
   "source": [
    "## preprocessing"
   ]
  },
  {
   "cell_type": "code",
   "execution_count": 11,
   "id": "242b5645",
   "metadata": {},
   "outputs": [],
   "source": [
    "train_mean = np.mean(x_train) #train data\n",
    "train_std = np.std(x_train)\n",
    "\n",
    "test_mean = np.mean(x_test)  #test data\n",
    "test_std = np.std(x_test)"
   ]
  },
  {
   "cell_type": "code",
   "execution_count": 12,
   "id": "a743dfc7",
   "metadata": {},
   "outputs": [],
   "source": [
    "# Data standardization\n",
    "\n",
    "x_train = ((x_train - train_mean)/train_std).astype(np.float32)\n",
    "x_test = ((x_test - test_mean)/test_std).astype(np.float32)"
   ]
  },
  {
   "cell_type": "markdown",
   "id": "9144fbe2",
   "metadata": {},
   "source": [
    "## Build Neural Network "
   ]
  },
  {
   "cell_type": "code",
   "execution_count": 13,
   "id": "efbca079",
   "metadata": {},
   "outputs": [],
   "source": [
    "model = Sequential()\n",
    "model.add(Flatten(input_shape = (28,28,1)))\n",
    "model.add(Dense(100, activation = \"relu\"))\n",
    "model.add(Dense(50, activation = \"relu\"))\n",
    "model.add(Dense(10, activation = \"softmax\"))\n",
    "\n",
    "model.compile(loss = \"sparse_categorical_crossentropy\",\n",
    "             optimizer = \"adam\",\n",
    "             metrics = [\"accuracy\"])"
   ]
  },
  {
   "cell_type": "code",
   "execution_count": 14,
   "id": "ec42ee61",
   "metadata": {
    "scrolled": true
   },
   "outputs": [
    {
     "name": "stdout",
     "output_type": "stream",
     "text": [
      "Epoch 1/20\n",
      "1875/1875 [==============================] - 10s 4ms/step - loss: 0.2341 - accuracy: 0.9286\n",
      "Epoch 2/20\n",
      "1875/1875 [==============================] - 6s 3ms/step - loss: 0.1090 - accuracy: 0.9664\n",
      "Epoch 3/20\n",
      "1875/1875 [==============================] - 6s 3ms/step - loss: 0.0831 - accuracy: 0.9740\n",
      "Epoch 4/20\n",
      "1875/1875 [==============================] - 6s 3ms/step - loss: 0.0667 - accuracy: 0.9786\n",
      "Epoch 5/20\n",
      "1875/1875 [==============================] - 6s 3ms/step - loss: 0.0551 - accuracy: 0.9828\n",
      "Epoch 6/20\n",
      "1875/1875 [==============================] - 6s 3ms/step - loss: 0.0461 - accuracy: 0.9848\n",
      "Epoch 7/20\n",
      "1875/1875 [==============================] - 7s 4ms/step - loss: 0.0403 - accuracy: 0.9866\n",
      "Epoch 8/20\n",
      "1875/1875 [==============================] - 7s 4ms/step - loss: 0.0387 - accuracy: 0.9869\n",
      "Epoch 9/20\n",
      "1875/1875 [==============================] - 6s 3ms/step - loss: 0.0348 - accuracy: 0.9889\n",
      "Epoch 10/20\n",
      "1875/1875 [==============================] - 7s 4ms/step - loss: 0.0309 - accuracy: 0.9900\n",
      "Epoch 11/20\n",
      "1875/1875 [==============================] - 7s 4ms/step - loss: 0.0273 - accuracy: 0.9912\n",
      "Epoch 12/20\n",
      "1875/1875 [==============================] - 7s 4ms/step - loss: 0.0244 - accuracy: 0.9922\n",
      "Epoch 13/20\n",
      "1875/1875 [==============================] - 7s 4ms/step - loss: 0.0233 - accuracy: 0.9922\n",
      "Epoch 14/20\n",
      "1875/1875 [==============================] - 8s 4ms/step - loss: 0.0232 - accuracy: 0.9924\n",
      "Epoch 15/20\n",
      "1875/1875 [==============================] - 7s 4ms/step - loss: 0.0229 - accuracy: 0.9924\n",
      "Epoch 16/20\n",
      "1875/1875 [==============================] - 7s 4ms/step - loss: 0.0196 - accuracy: 0.9939\n",
      "Epoch 17/20\n",
      "1875/1875 [==============================] - 7s 4ms/step - loss: 0.0181 - accuracy: 0.9942\n",
      "Epoch 18/20\n",
      "1875/1875 [==============================] - 9s 5ms/step - loss: 0.0205 - accuracy: 0.9932\n",
      "Epoch 19/20\n",
      "1875/1875 [==============================] - 8s 4ms/step - loss: 0.0161 - accuracy: 0.9947\n",
      "Epoch 20/20\n",
      "1875/1875 [==============================] - 7s 4ms/step - loss: 0.0193 - accuracy: 0.9941\n"
     ]
    },
    {
     "data": {
      "text/plain": [
       "<keras.callbacks.History at 0x202c65a3b80>"
      ]
     },
     "execution_count": 14,
     "metadata": {},
     "output_type": "execute_result"
    }
   ],
   "source": [
    "model.fit(x_train, y_train, epochs = 20)"
   ]
  },
  {
   "cell_type": "markdown",
   "id": "12b1a90f",
   "metadata": {},
   "source": [
    "#### Testing the model"
   ]
  },
  {
   "cell_type": "code",
   "execution_count": 15,
   "id": "73effd01",
   "metadata": {},
   "outputs": [
    {
     "name": "stdout",
     "output_type": "stream",
     "text": [
      "313/313 [==============================] - 1s 3ms/step - loss: 0.1321 - accuracy: 0.9756\n"
     ]
    }
   ],
   "source": [
    "test_loss, test_accuracy = model.evaluate(x_test, y_test)"
   ]
  },
  {
   "cell_type": "code",
   "execution_count": 16,
   "id": "e40afdb9",
   "metadata": {},
   "outputs": [
    {
     "name": "stdout",
     "output_type": "stream",
     "text": [
      " test loss 0.132...test accuracy  0.976\n"
     ]
    }
   ],
   "source": [
    "print(\" test loss {:.3f}...test accuracy  {:.3f}\".format(test_loss, test_accuracy))"
   ]
  },
  {
   "cell_type": "code",
   "execution_count": 21,
   "id": "c590aa0e",
   "metadata": {},
   "outputs": [
    {
     "data": {
      "text/plain": [
       "(10000, 28, 28)"
      ]
     },
     "execution_count": 21,
     "metadata": {},
     "output_type": "execute_result"
    }
   ],
   "source": [
    "x_test.shape"
   ]
  },
  {
   "cell_type": "markdown",
   "id": "f5ca9bd3",
   "metadata": {},
   "source": [
    "# make prediction"
   ]
  },
  {
   "cell_type": "code",
   "execution_count": 22,
   "id": "0aac41ba",
   "metadata": {},
   "outputs": [
    {
     "name": "stdout",
     "output_type": "stream",
     "text": [
      "313/313 [==============================] - 1s 2ms/step\n"
     ]
    },
    {
     "data": {
      "text/plain": [
       "array([[1.0225338e-11, 1.0894088e-13, 7.1543493e-10, ..., 9.9999988e-01,\n",
       "        1.3143442e-12, 9.2572961e-08],\n",
       "       [2.7827173e-06, 2.8419639e-12, 9.9999726e-01, ..., 9.6130596e-17,\n",
       "        3.4508956e-14, 1.4423927e-23],\n",
       "       [4.5341172e-14, 9.9999893e-01, 3.0776531e-11, ..., 2.9588122e-08,\n",
       "        2.2777852e-10, 2.1507058e-14],\n",
       "       ...,\n",
       "       [3.7208329e-34, 7.3469993e-25, 1.5457901e-38, ..., 2.1060411e-19,\n",
       "        9.2860790e-21, 2.3810028e-14],\n",
       "       [1.1845933e-22, 4.0974874e-22, 1.5860937e-28, ..., 2.2434495e-21,\n",
       "        1.5182291e-09, 1.3970120e-22],\n",
       "       [1.3414045e-21, 4.6920121e-35, 3.5536594e-24, ..., 9.3463119e-22,\n",
       "        9.0790741e-27, 4.3197042e-25]], dtype=float32)"
      ]
     },
     "execution_count": 22,
     "metadata": {},
     "output_type": "execute_result"
    }
   ],
   "source": [
    "\n",
    "predictions = model.predict(x_test)\n",
    "predictions"
   ]
  },
  {
   "cell_type": "code",
   "execution_count": 38,
   "id": "1d8b9b58",
   "metadata": {},
   "outputs": [],
   "source": [
    "results = np.argmax(predictions, axis = 1)"
   ]
  },
  {
   "cell_type": "code",
   "execution_count": 41,
   "id": "869b8038",
   "metadata": {},
   "outputs": [
    {
     "data": {
      "text/plain": [
       "array([7, 2, 1, ..., 4, 5, 6], dtype=int64)"
      ]
     },
     "execution_count": 41,
     "metadata": {},
     "output_type": "execute_result"
    }
   ],
   "source": [
    "results"
   ]
  },
  {
   "cell_type": "markdown",
   "id": "17c1b527",
   "metadata": {},
   "source": [
    "# display top 10 predictions"
   ]
  },
  {
   "cell_type": "code",
   "execution_count": 52,
   "id": "4a2fc0e4",
   "metadata": {},
   "outputs": [
    {
     "data": {
      "image/png": "[encoded data removed]",
      "text/plain": [
       "<Figure size 720x360 with 10 Axes>"
      ]
     },
     "metadata": {
      "needs_background": "light"
     },
     "output_type": "display_data"
    }
   ],
   "source": [
    "top_10_image = x_test[:10] # picks out the top 10 data from the x_test numpy\n",
    "top_10_image = top_10_image.tolist() #creates a list of the top 10 array\n",
    "\n",
    "plt.figure(figsize = (10,5))\n",
    "for index, image in enumerate(top_10_image):\n",
    "    label = results[index] #predicted label\n",
    "    plt.subplot(2, 5, index+1) #creates subplots\n",
    "    plt.imshow(top_10_image[index], cmap = \"gray\") \n",
    "    plt.title(f\"{label}\")\n",
    "plt.tight_layout() # adjust subplot spacing\n",
    "plt.show() # display the plot"
   ]
  },
  {
   "cell_type": "code",
   "execution_count": null,
   "id": "8dbcfa81",
   "metadata": {},
   "outputs": [],
   "source": []
  },
  {
   "cell_type": "code",
   "execution_count": null,
   "id": "1d388892",
   "metadata": {},
   "outputs": [],
   "source": []
  }
 ],
 "metadata": {
  "kernelspec": {
   "display_name": "Python 3 (ipykernel)",
   "language": "python",
   "name": "python3"
  },
  "language_info": {
   "codemirror_mode": {
    "name": "ipython",
    "version": 3
   },
   "file_extension": ".py",
   "mimetype": "text/x-python",
   "name": "python",
   "nbconvert_exporter": "python",
   "pygments_lexer": "ipython3",
   "version": "3.9.7"
  }
 },
 "nbformat": 4,
 "nbformat_minor": 5
}
